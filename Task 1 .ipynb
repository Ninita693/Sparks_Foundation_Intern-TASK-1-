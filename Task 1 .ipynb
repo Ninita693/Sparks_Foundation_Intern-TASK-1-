# Sparks_Foundation_Intern-TASK-1
#Task 1: Supervised Machine Learning
#Predict the percentage of marks of a student based on the number of study hours
